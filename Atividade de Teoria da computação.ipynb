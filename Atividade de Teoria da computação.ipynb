{
 "cells": [
  {
   "cell_type": "code",
   "execution_count": 3,
   "metadata": {},
   "outputs": [],
   "source": [
    "def recon_afd(estados, alfabeto, e_inicial, e_finais, f_transicao,w):\n",
    "    estado_atual = e_inicial\n",
    "\n",
    "    for letra in w:\n",
    "        estado_atual = f_transicao[(estado_atual, letra)]\n",
    "        \n",
    "        if estado_atual is None:\n",
    "            print(\"Rejeitada\")\n",
    "            break\n",
    "    else:\n",
    "        if (estado_atual in e_finais):\n",
    "            print(\"Aceita\")\n",
    "        else:\n",
    "            print(\"Rejeitada\")"
   ]
  },
  {
   "cell_type": "markdown",
   "metadata": {},
   "source": [
    "| Questão 1 letra a |\n",
    "\n",
    "| Sempre que tem 1 vem dois 0 |\n"
   ]
  },
  {
   "cell_type": "code",
   "execution_count": 9,
   "metadata": {},
   "outputs": [
    {
     "name": "stdout",
     "output_type": "stream",
     "text": [
      "Devem ser aceitas:\n",
      "Aceita\n",
      "Aceita\n",
      "Aceita\n",
      "Aceita\n",
      "Aceita\n",
      "Aceita\n",
      "\n",
      "Devem ser rejeitadas:\n",
      "Rejeitada\n",
      "Rejeitada\n",
      "Rejeitada\n",
      "Rejeitada\n",
      "Rejeitada\n"
     ]
    }
   ],
   "source": [
    "estados = ['q0','q1','q2','q3']\n",
    "alfabeto = ['0','1']\n",
    "e_inicial = \"q0\"\n",
    "e_finais = ['q0']\n",
    "\n",
    "f_transicao =   {('q0', '1'): 'q1', \n",
    "                 ('q0', '0'): 'q0', \n",
    "                 \n",
    "                 ('q1', '1'): 'q3', \n",
    "                 ('q1', '0'): 'q2', \n",
    "                 \n",
    "                 ('q2', '1'): 'q3', \n",
    "                 ('q2', '0'): 'q0',\n",
    "\n",
    "                 ('q3', '1'): 'q3', \n",
    "                 ('q3', '0'): 'q3',}\n",
    "\n",
    "l_wA =['',\n",
    "      '100',\n",
    "      '10010000',\n",
    "      '100000100',\n",
    "      '100100100',\n",
    "      '100100100',\n",
    "      ]\n",
    "\n",
    "l_wR = [\n",
    "      '1001',\n",
    "      '1010101',\n",
    "      '10101011110',\n",
    "      '1000001',\n",
    "      '1001001',\n",
    "]\n",
    "\n",
    "print('Devem ser aceitas:')\n",
    "for w in l_wA:\n",
    "    recon_afd(estados, alfabeto, e_inicial, e_finais, f_transicao,w)\n",
    "    \n",
    "print('\\nDevem ser rejeitadas:')\n",
    "for w in l_wR:\n",
    "    recon_afd(estados, alfabeto, e_inicial, e_finais, f_transicao,w)"
   ]
  },
  {
   "cell_type": "markdown",
   "metadata": {},
   "source": [
    "| Questão 1 letra b |\n",
    "\n",
    "| O último símbolo seja b e o número de símbolos a seja par. |"
   ]
  },
  {
   "cell_type": "code",
   "execution_count": 7,
   "metadata": {},
   "outputs": [
    {
     "name": "stdout",
     "output_type": "stream",
     "text": [
      "Devem ser aceitas:\n",
      "Aceita\n",
      "Aceita\n",
      "Aceita\n",
      "Aceita\n",
      "Aceita\n",
      "Aceita\n",
      "Rejeitada\n",
      "\n",
      "Devem ser rejeitadas:\n",
      "Rejeitada\n",
      "Rejeitada\n",
      "Rejeitada\n",
      "Rejeitada\n",
      "Rejeitada\n",
      "Rejeitada\n"
     ]
    }
   ],
   "source": [
    "estados = ['q0','q1','q2','q3']\n",
    "alfabeto = ['a','b']\n",
    "e_inicial = \"q0\"\n",
    "e_finais = ['q2']\n",
    "\n",
    "f_transicao =   {('q0', 'a'): 'q1', \n",
    "                 ('q0', 'b'): 'q2', \n",
    "                 \n",
    "                 ('q1', 'a'): 'q0', \n",
    "                 ('q1', 'b'): 'q1', \n",
    "                 \n",
    "                 ('q2', 'a'): 'q1', \n",
    "                 ('q2', 'b'): 'q2',}\n",
    "\n",
    "l_wA =['b',\n",
    "      'aab',\n",
    "      'abaaaaab',\n",
    "      'bbbbbaab',\n",
    "      'bbbabbbbbab',\n",
    "      'bbbabababab',\n",
    "      'aaabbbaa'\n",
    "\n",
    "]\n",
    "\n",
    "l_wR = [\n",
    "      'aaa',\n",
    "      'baaa',\n",
    "      'abba',\n",
    "      'aaaaabbbbaab',\n",
    "      'aaaaabaaaaaab',\n",
    "      'aaaabaaabab',\n",
    "]\n",
    "\n",
    "print('Devem ser aceitas:')\n",
    "for w in l_wA:\n",
    "    recon_afd(estados, alfabeto, e_inicial, e_finais, f_transicao,w)\n",
    "    \n",
    "print('\\nDevem ser rejeitadas:')\n",
    "for w in l_wR:\n",
    "    recon_afd(estados, alfabeto, e_inicial, e_finais, f_transicao,w)"
   ]
  },
  {
   "cell_type": "markdown",
   "metadata": {},
   "source": [
    "| Questão 2 |\n",
    "\n",
    "| Implemente um autômato finito que reconheça todas as ocorrências da palavra computador no texto T. |"
   ]
  },
  {
   "cell_type": "code",
   "execution_count": 9,
   "metadata": {},
   "outputs": [
    {
     "name": "stdout",
     "output_type": "stream",
     "text": [
      "Posições onde se inicia a palavra 'computador' no texto T:\n"
     ]
    },
    {
     "data": {
      "text/plain": [
       "[2, 133, 294, 412, 440]"
      ]
     },
     "execution_count": 9,
     "metadata": {},
     "output_type": "execute_result"
    }
   ],
   "source": [
    "w = 'O computador é uma máquina capaz de variados tipos de tratamento automático de informações ou processamento de dados. Entende-se por computador um sistema físico que realiza algum tipo de computação. Assumiu-se que os computadores pessoais e laptops são ícones da era da informação. O primeiro computador eletromecânico foi construído por Konrad Zuse (1910–1995). Atualmente, um microcomputador é também chamado computador pessoal ou ainda computador doméstico.'\n",
    "alfabeto = list(dict.fromkeys([char for char in w]))\n",
    "e_inicial = \"q0\"\n",
    "estados = ['q0','q1','q2','q3','q4','q5','q6','q7','q8','q9','q10','q11','q12']\n",
    "e_finais = ['q12']\n",
    "procurada = 'computador'\n",
    "\n",
    "f_transicao = {}\n",
    "for e in estados:\n",
    "    for s in alfabeto:\n",
    "        f_transicao[(str(e), str(s))] = 'q0'\n",
    "\n",
    "f_transicao[('q0',' ')] = 'q1'\n",
    "f_transicao[('q1','c')] = 'q2'\n",
    "f_transicao[('q2','o')] = 'q3'\n",
    "f_transicao[('q3','m')] = 'q4'\n",
    "f_transicao[('q4','p')] = 'q5'\n",
    "f_transicao[('q5','u')] = 'q6'\n",
    "f_transicao[('q6','t')] = 'q7'\n",
    "f_transicao[('q7','a')] = 'q8'\n",
    "f_transicao[('q8','d')] = 'q9'\n",
    "f_transicao[('q9','o')] = 'q10'\n",
    "f_transicao[('q10','r')] = 'q11'\n",
    "f_transicao[('q11',' ')] = 'q12'\n",
    "\n",
    "def recon_afd_2(estados, alfabeto, e_inicial, e_finais, f_transicao,w):\n",
    "    estado_atual = e_inicial\n",
    "    posicoes = []\n",
    "    for simb in range(len(w)):\n",
    "        estado_atual = f_transicao[(estado_atual, w[simb])]\n",
    "\n",
    "        if estado_atual is None:\n",
    "            print(\"Rejeitada\")\n",
    "            break\n",
    "\n",
    "        else:\n",
    "            if (estado_atual in e_finais):\n",
    "                posicoes.append(simb-len(procurada))\n",
    "    return(posicoes)\n",
    "\n",
    "print('Posições onde se inicia a palavra \\'computador\\' no texto T:')\n",
    "recon_afd_2(estados, alfabeto, e_inicial, e_finais, f_transicao,w)"
   ]
  },
  {
   "cell_type": "markdown",
   "metadata": {},
   "source": [
    "| Questão 4 |\n",
    "\n",
    "\n",
    "Neste caso 100 esta sendo considerado 1 real"
   ]
  },
  {
   "cell_type": "code",
   "execution_count": 22,
   "metadata": {},
   "outputs": [],
   "source": [
    "def refri_maqui(transdutor, q_i, entrada):\n",
    "    entrada = entrada.split(',')\n",
    "    q_list = []\n",
    "    saida = []\n",
    "    \n",
    "    q = q_i\n",
    "    q_list.append(q)\n",
    "    \n",
    "    for e in entrada:\n",
    "        if e!='25' and e!='50' and e!='100':\n",
    "            print('entrada inválida: '+e)\n",
    "            break\n",
    "            \n",
    "        s = transdutor[q][e][1]\n",
    "        saida.append(s)\n",
    "        q = transdutor[q][e][0]\n",
    "        q_list.append(q)\n",
    "\n",
    "    print('Refri saindo em: ', saida)\n",
    "    \n",
    "    return q_list, saida"
   ]
  },
  {
   "cell_type": "code",
   "execution_count": 23,
   "metadata": {},
   "outputs": [
    {
     "name": "stdout",
     "output_type": "stream",
     "text": [
      "Refri saindo em:  ['1', '0', '0', '0', '1', '1', '0', '1', '1']\n",
      "Refri saindo em:  ['0', '0', '1', '0', '1', '1', '0', '0', '1', '1']\n",
      "Refri saindo em:  ['0', '0', '0', '1', '0', '0', '1']\n",
      "Refri saindo em:  ['0', '1', '0', '0', '1', '0', '1']\n",
      "Refri saindo em:  ['0', '0', '0', '1', '1']\n",
      "Refri saindo em:  ['1', '0', '0', '1', '0', '0', '1', '1']\n",
      "Refri saindo em:  ['0', '0', '1', '1', '0', '1', '0']\n",
      "entrada inválida: 75\n",
      "Refri saindo em:  []\n",
      "entrada inválida: 1\n",
      "Refri saindo em:  []\n",
      "entrada inválida: 30\n",
      "Refri saindo em:  []\n"
     ]
    }
   ],
   "source": [
    "Transd_mealy = {'q0':{'25':('q1', '0'),'50':('q2', '0'), '100':('q0','1')},\n",
    "                'q1':{'25':('q2', '0'), '50':('q3', '0'), '100':('q1','1')},\n",
    "                'q2':{'25':('q3', '0'), '50':('q0', '1'), '100':('q2','1')},\n",
    "                'q3':{'25':('q0', '1'), '50':('q1', '1'), '100':('q3','1')}\n",
    "               }\n",
    "\n",
    "q_1 = 'q0'\n",
    "entrada = ['100,25,25,25,25,100,50,50,100',\n",
    "           '25,25,50,50,100,50,25,50,100,25',\n",
    "           '25,25,25,25,25,25,50',\n",
    "           '50,50,50,25,25,50,50',\n",
    "           '25,25,25,100,50',\n",
    "           '100,25,50,25,50,25,25,100',\n",
    "           '25,50,100,50,50,25,25',\n",
    "           '75,25,50,100,50',\n",
    "           '1,50,50,100,25,25,50',\n",
    "           '30,20,50,50,100'\n",
    "           ]\n",
    "\n",
    "for moedas in entrada:\n",
    "    q_list, saida = refri_maqui(Transd_mealy, q_1, moedas)"
   ]
  },
  {
   "cell_type": "code",
   "execution_count": null,
   "metadata": {},
   "outputs": [],
   "source": []
  }
 ],
 "metadata": {
  "kernelspec": {
   "display_name": "Python 3.10.6 64-bit",
   "language": "python",
   "name": "python3"
  },
  "language_info": {
   "codemirror_mode": {
    "name": "ipython",
    "version": 3
   },
   "file_extension": ".py",
   "mimetype": "text/x-python",
   "name": "python",
   "nbconvert_exporter": "python",
   "pygments_lexer": "ipython3",
   "version": "3.10.6"
  },
  "orig_nbformat": 4,
  "vscode": {
   "interpreter": {
    "hash": "636b038220b4a40103d160103ea227eeb89870ee649931a989d45785db8ceed1"
   }
  }
 },
 "nbformat": 4,
 "nbformat_minor": 2
}
